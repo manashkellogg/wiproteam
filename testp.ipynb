{
 "cells": [
  {
   "cell_type": "code",
   "execution_count": 1,
   "id": "6e7d3a2e-e25e-499a-8c26-e95463cb8c8a",
   "metadata": {
    "tags": []
   },
   "outputs": [
    {
     "name": "stdout",
     "output_type": "stream",
     "text": [
      "hello\n"
     ]
    }
   ],
   "source": [
    "print(\"hello\")"
   ]
  },
  {
   "cell_type": "code",
   "execution_count": null,
   "id": "da5f0167-6a81-4ab4-a60e-10b1c6a4af26",
   "metadata": {},
   "outputs": [],
   "source": []
  }
 ],
 "metadata": {
  "kernelspec": {
   "display_name": "Python 3 (ipykernel)",
   "language": "python",
   "name": "python3"
  },
  "language_info": {
   "codemirror_mode": {
    "name": "ipython",
    "version": 3
   },
   "file_extension": ".py",
   "mimetype": "text/x-python",
   "name": "python",
   "nbconvert_exporter": "python",
   "pygments_lexer": "ipython3",
   "version": "3.7.10"
  },
  "rsconnect": {
   "previousServerId": null,
   "servers": {
    "7bf7111c3adbbc100b3dee29ff9efc00": {
     "disableTLSCheck": false,
     "server": "https://dev.positconnect.analytics.kellogg.com/",
     "serverName": "connect"
    }
   },
   "version": 1
  },
  "toc-showcode": false
 },
 "nbformat": 4,
 "nbformat_minor": 5
}
